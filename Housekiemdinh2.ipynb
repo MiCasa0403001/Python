{
 "cells": [
  {
   "cell_type": "code",
   "execution_count": 1,
   "metadata": {},
   "outputs": [],
   "source": [
    "import pandas as pd \n",
    "import numpy as np\n",
    "import matplotlib.pyplot as plt\n",
    "import seaborn as sns\n",
    "from scipy import stats\n",
    "from scipy.stats import pearsonr, chi2_contingency, spearmanr"
   ]
  },
  {
   "cell_type": "code",
   "execution_count": 2,
   "metadata": {},
   "outputs": [],
   "source": [
    "# Đọc dữ liệu \n",
    "df = pd.read_csv('house_price_Dống-Da_Hà-Nội_subdata.csv')"
   ]
  },
  {
   "cell_type": "code",
   "execution_count": 3,
   "metadata": {},
   "outputs": [
    {
     "data": {
      "text/html": [
       "<div>\n",
       "<style scoped>\n",
       "    .dataframe tbody tr th:only-of-type {\n",
       "        vertical-align: middle;\n",
       "    }\n",
       "\n",
       "    .dataframe tbody tr th {\n",
       "        vertical-align: top;\n",
       "    }\n",
       "\n",
       "    .dataframe thead th {\n",
       "        text-align: right;\n",
       "    }\n",
       "</style>\n",
       "<table border=\"1\" class=\"dataframe\">\n",
       "  <thead>\n",
       "    <tr style=\"text-align: right;\">\n",
       "      <th></th>\n",
       "      <th>area</th>\n",
       "      <th>price</th>\n",
       "      <th>postDate</th>\n",
       "      <th>land_certificate</th>\n",
       "      <th>house_direction</th>\n",
       "      <th>balcony_direction</th>\n",
       "      <th>toilet</th>\n",
       "      <th>bedroom</th>\n",
       "      <th>floor</th>\n",
       "      <th>lat</th>\n",
       "      <th>long</th>\n",
       "      <th>property_type</th>\n",
       "    </tr>\n",
       "  </thead>\n",
       "  <tbody>\n",
       "    <tr>\n",
       "      <th>0</th>\n",
       "      <td>50.0</td>\n",
       "      <td>14700.0</td>\n",
       "      <td>44197</td>\n",
       "      <td>So do</td>\n",
       "      <td>NaN</td>\n",
       "      <td>NaN</td>\n",
       "      <td>4.0</td>\n",
       "      <td>6.0</td>\n",
       "      <td>6.0</td>\n",
       "      <td>21.015698</td>\n",
       "      <td>105.824583</td>\n",
       "      <td>trong ngo</td>\n",
       "    </tr>\n",
       "    <tr>\n",
       "      <th>1</th>\n",
       "      <td>57.0</td>\n",
       "      <td>4200.0</td>\n",
       "      <td>44265</td>\n",
       "      <td>So do</td>\n",
       "      <td>Nam</td>\n",
       "      <td>Nam</td>\n",
       "      <td>3.0</td>\n",
       "      <td>8.0</td>\n",
       "      <td>4.0</td>\n",
       "      <td>21.025208</td>\n",
       "      <td>105.833111</td>\n",
       "      <td>trong ngo</td>\n",
       "    </tr>\n",
       "    <tr>\n",
       "      <th>2</th>\n",
       "      <td>62.0</td>\n",
       "      <td>11000.0</td>\n",
       "      <td>44268</td>\n",
       "      <td>So do</td>\n",
       "      <td>NaN</td>\n",
       "      <td>dong-Nam</td>\n",
       "      <td>6.0</td>\n",
       "      <td>5.0</td>\n",
       "      <td>6.0</td>\n",
       "      <td>21.025379</td>\n",
       "      <td>105.801011</td>\n",
       "      <td>trong ngo</td>\n",
       "    </tr>\n",
       "    <tr>\n",
       "      <th>3</th>\n",
       "      <td>26.0</td>\n",
       "      <td>2900.0</td>\n",
       "      <td>44292</td>\n",
       "      <td>So do</td>\n",
       "      <td>NaN</td>\n",
       "      <td>NaN</td>\n",
       "      <td>4.0</td>\n",
       "      <td>3.0</td>\n",
       "      <td>4.0</td>\n",
       "      <td>21.014325</td>\n",
       "      <td>105.834918</td>\n",
       "      <td>trong ngo</td>\n",
       "    </tr>\n",
       "    <tr>\n",
       "      <th>4</th>\n",
       "      <td>40.0</td>\n",
       "      <td>3950.0</td>\n",
       "      <td>44292</td>\n",
       "      <td>So do</td>\n",
       "      <td>NaN</td>\n",
       "      <td>NaN</td>\n",
       "      <td>NaN</td>\n",
       "      <td>NaN</td>\n",
       "      <td>5.0</td>\n",
       "      <td>21.009862</td>\n",
       "      <td>105.838083</td>\n",
       "      <td>trong ngo</td>\n",
       "    </tr>\n",
       "    <tr>\n",
       "      <th>...</th>\n",
       "      <td>...</td>\n",
       "      <td>...</td>\n",
       "      <td>...</td>\n",
       "      <td>...</td>\n",
       "      <td>...</td>\n",
       "      <td>...</td>\n",
       "      <td>...</td>\n",
       "      <td>...</td>\n",
       "      <td>...</td>\n",
       "      <td>...</td>\n",
       "      <td>...</td>\n",
       "      <td>...</td>\n",
       "    </tr>\n",
       "    <tr>\n",
       "      <th>666</th>\n",
       "      <td>168.0</td>\n",
       "      <td>23500.0</td>\n",
       "      <td>44325</td>\n",
       "      <td>NaN</td>\n",
       "      <td>NaN</td>\n",
       "      <td>NaN</td>\n",
       "      <td>3.0</td>\n",
       "      <td>3.0</td>\n",
       "      <td>3.0</td>\n",
       "      <td>21.000823</td>\n",
       "      <td>105.829097</td>\n",
       "      <td>mat pho</td>\n",
       "    </tr>\n",
       "    <tr>\n",
       "      <th>667</th>\n",
       "      <td>65.0</td>\n",
       "      <td>17500.0</td>\n",
       "      <td>44325</td>\n",
       "      <td>So do</td>\n",
       "      <td>NaN</td>\n",
       "      <td>NaN</td>\n",
       "      <td>NaN</td>\n",
       "      <td>6.0</td>\n",
       "      <td>5.0</td>\n",
       "      <td>21.011495</td>\n",
       "      <td>105.816666</td>\n",
       "      <td>mat pho</td>\n",
       "    </tr>\n",
       "    <tr>\n",
       "      <th>668</th>\n",
       "      <td>60.0</td>\n",
       "      <td>17500.0</td>\n",
       "      <td>44197</td>\n",
       "      <td>NaN</td>\n",
       "      <td>NaN</td>\n",
       "      <td>NaN</td>\n",
       "      <td>NaN</td>\n",
       "      <td>NaN</td>\n",
       "      <td>NaN</td>\n",
       "      <td>21.011495</td>\n",
       "      <td>105.816666</td>\n",
       "      <td>mat pho</td>\n",
       "    </tr>\n",
       "    <tr>\n",
       "      <th>669</th>\n",
       "      <td>45.0</td>\n",
       "      <td>24800.0</td>\n",
       "      <td>44197</td>\n",
       "      <td>NaN</td>\n",
       "      <td>NaN</td>\n",
       "      <td>NaN</td>\n",
       "      <td>NaN</td>\n",
       "      <td>NaN</td>\n",
       "      <td>NaN</td>\n",
       "      <td>21.016106</td>\n",
       "      <td>105.832157</td>\n",
       "      <td>mat pho</td>\n",
       "    </tr>\n",
       "    <tr>\n",
       "      <th>670</th>\n",
       "      <td>107.0</td>\n",
       "      <td>45000.0</td>\n",
       "      <td>44325</td>\n",
       "      <td>So do</td>\n",
       "      <td>NaN</td>\n",
       "      <td>NaN</td>\n",
       "      <td>NaN</td>\n",
       "      <td>NaN</td>\n",
       "      <td>5.0</td>\n",
       "      <td>21.009123</td>\n",
       "      <td>105.824428</td>\n",
       "      <td>mat pho</td>\n",
       "    </tr>\n",
       "  </tbody>\n",
       "</table>\n",
       "<p>671 rows × 12 columns</p>\n",
       "</div>"
      ],
      "text/plain": [
       "      area    price  postDate land_certificate house_direction  \\\n",
       "0     50.0  14700.0     44197            So do             NaN   \n",
       "1     57.0   4200.0     44265            So do             Nam   \n",
       "2     62.0  11000.0     44268            So do             NaN   \n",
       "3     26.0   2900.0     44292            So do             NaN   \n",
       "4     40.0   3950.0     44292            So do             NaN   \n",
       "..     ...      ...       ...              ...             ...   \n",
       "666  168.0  23500.0     44325              NaN             NaN   \n",
       "667   65.0  17500.0     44325            So do             NaN   \n",
       "668   60.0  17500.0     44197              NaN             NaN   \n",
       "669   45.0  24800.0     44197              NaN             NaN   \n",
       "670  107.0  45000.0     44325            So do             NaN   \n",
       "\n",
       "    balcony_direction  toilet  bedroom  floor        lat        long  \\\n",
       "0                 NaN     4.0      6.0    6.0  21.015698  105.824583   \n",
       "1                 Nam     3.0      8.0    4.0  21.025208  105.833111   \n",
       "2            dong-Nam     6.0      5.0    6.0  21.025379  105.801011   \n",
       "3                 NaN     4.0      3.0    4.0  21.014325  105.834918   \n",
       "4                 NaN     NaN      NaN    5.0  21.009862  105.838083   \n",
       "..                ...     ...      ...    ...        ...         ...   \n",
       "666               NaN     3.0      3.0    3.0  21.000823  105.829097   \n",
       "667               NaN     NaN      6.0    5.0  21.011495  105.816666   \n",
       "668               NaN     NaN      NaN    NaN  21.011495  105.816666   \n",
       "669               NaN     NaN      NaN    NaN  21.016106  105.832157   \n",
       "670               NaN     NaN      NaN    5.0  21.009123  105.824428   \n",
       "\n",
       "    property_type  \n",
       "0       trong ngo  \n",
       "1       trong ngo  \n",
       "2       trong ngo  \n",
       "3       trong ngo  \n",
       "4       trong ngo  \n",
       "..            ...  \n",
       "666       mat pho  \n",
       "667       mat pho  \n",
       "668       mat pho  \n",
       "669       mat pho  \n",
       "670       mat pho  \n",
       "\n",
       "[671 rows x 12 columns]"
      ]
     },
     "execution_count": 3,
     "metadata": {},
     "output_type": "execute_result"
    }
   ],
   "source": [
    "df"
   ]
  },
  {
   "cell_type": "code",
   "execution_count": 4,
   "metadata": {},
   "outputs": [
    {
     "name": "stdout",
     "output_type": "stream",
     "text": [
      "<class 'pandas.core.frame.DataFrame'>\n",
      "RangeIndex: 671 entries, 0 to 670\n",
      "Data columns (total 12 columns):\n",
      " #   Column             Non-Null Count  Dtype  \n",
      "---  ------             --------------  -----  \n",
      " 0   area               665 non-null    float64\n",
      " 1   price              617 non-null    float64\n",
      " 2   postDate           671 non-null    int64  \n",
      " 3   land_certificate   369 non-null    object \n",
      " 4   house_direction    42 non-null     object \n",
      " 5   balcony_direction  24 non-null     object \n",
      " 6   toilet             240 non-null    float64\n",
      " 7   bedroom            320 non-null    float64\n",
      " 8   floor              366 non-null    float64\n",
      " 9   lat                671 non-null    float64\n",
      " 10  long               671 non-null    float64\n",
      " 11  property_type      671 non-null    object \n",
      "dtypes: float64(7), int64(1), object(4)\n",
      "memory usage: 63.0+ KB\n"
     ]
    }
   ],
   "source": [
    "df.info()"
   ]
  },
  {
   "cell_type": "code",
   "execution_count": 5,
   "metadata": {},
   "outputs": [
    {
     "data": {
      "text/html": [
       "<div>\n",
       "<style scoped>\n",
       "    .dataframe tbody tr th:only-of-type {\n",
       "        vertical-align: middle;\n",
       "    }\n",
       "\n",
       "    .dataframe tbody tr th {\n",
       "        vertical-align: top;\n",
       "    }\n",
       "\n",
       "    .dataframe thead th {\n",
       "        text-align: right;\n",
       "    }\n",
       "</style>\n",
       "<table border=\"1\" class=\"dataframe\">\n",
       "  <thead>\n",
       "    <tr style=\"text-align: right;\">\n",
       "      <th></th>\n",
       "      <th>area</th>\n",
       "      <th>price</th>\n",
       "      <th>postDate</th>\n",
       "      <th>land_certificate</th>\n",
       "      <th>house_direction</th>\n",
       "      <th>balcony_direction</th>\n",
       "      <th>toilet</th>\n",
       "      <th>bedroom</th>\n",
       "      <th>floor</th>\n",
       "      <th>lat</th>\n",
       "      <th>long</th>\n",
       "      <th>property_type</th>\n",
       "    </tr>\n",
       "  </thead>\n",
       "  <tbody>\n",
       "    <tr>\n",
       "      <th>1</th>\n",
       "      <td>57.0</td>\n",
       "      <td>4200.0</td>\n",
       "      <td>44265</td>\n",
       "      <td>So do</td>\n",
       "      <td>Nam</td>\n",
       "      <td>Nam</td>\n",
       "      <td>3.0</td>\n",
       "      <td>8.0</td>\n",
       "      <td>4.0</td>\n",
       "      <td>21.025208</td>\n",
       "      <td>105.833111</td>\n",
       "      <td>trong ngo</td>\n",
       "    </tr>\n",
       "    <tr>\n",
       "      <th>7</th>\n",
       "      <td>52.2</td>\n",
       "      <td>5376.6</td>\n",
       "      <td>44292</td>\n",
       "      <td>So do</td>\n",
       "      <td>Tay-Bac</td>\n",
       "      <td>Tay-Bac</td>\n",
       "      <td>1.0</td>\n",
       "      <td>2.0</td>\n",
       "      <td>3.0</td>\n",
       "      <td>21.019078</td>\n",
       "      <td>105.819259</td>\n",
       "      <td>trong ngo</td>\n",
       "    </tr>\n",
       "    <tr>\n",
       "      <th>220</th>\n",
       "      <td>61.0</td>\n",
       "      <td>12500.0</td>\n",
       "      <td>44306</td>\n",
       "      <td>So do</td>\n",
       "      <td>dong-Nam</td>\n",
       "      <td>dong-Nam</td>\n",
       "      <td>4.0</td>\n",
       "      <td>6.0</td>\n",
       "      <td>5.0</td>\n",
       "      <td>21.009410</td>\n",
       "      <td>105.824307</td>\n",
       "      <td>trong ngo</td>\n",
       "    </tr>\n",
       "    <tr>\n",
       "      <th>223</th>\n",
       "      <td>37.0</td>\n",
       "      <td>3800.0</td>\n",
       "      <td>44306</td>\n",
       "      <td>So do</td>\n",
       "      <td>dong</td>\n",
       "      <td>dong</td>\n",
       "      <td>3.0</td>\n",
       "      <td>3.0</td>\n",
       "      <td>4.0</td>\n",
       "      <td>21.012872</td>\n",
       "      <td>105.833187</td>\n",
       "      <td>trong ngo</td>\n",
       "    </tr>\n",
       "    <tr>\n",
       "      <th>230</th>\n",
       "      <td>35.0</td>\n",
       "      <td>4250.0</td>\n",
       "      <td>44306</td>\n",
       "      <td>So do</td>\n",
       "      <td>Bac</td>\n",
       "      <td>Bac</td>\n",
       "      <td>4.0</td>\n",
       "      <td>3.0</td>\n",
       "      <td>5.0</td>\n",
       "      <td>21.024038</td>\n",
       "      <td>105.802626</td>\n",
       "      <td>trong ngo</td>\n",
       "    </tr>\n",
       "    <tr>\n",
       "      <th>278</th>\n",
       "      <td>50.0</td>\n",
       "      <td>14600.0</td>\n",
       "      <td>44312</td>\n",
       "      <td>So do</td>\n",
       "      <td>Tay-Nam</td>\n",
       "      <td>Tay-Nam</td>\n",
       "      <td>4.0</td>\n",
       "      <td>6.0</td>\n",
       "      <td>4.0</td>\n",
       "      <td>21.016075</td>\n",
       "      <td>105.824436</td>\n",
       "      <td>trong ngo</td>\n",
       "    </tr>\n",
       "    <tr>\n",
       "      <th>382</th>\n",
       "      <td>51.0</td>\n",
       "      <td>3900.0</td>\n",
       "      <td>44323</td>\n",
       "      <td>So do</td>\n",
       "      <td>Tay-Nam</td>\n",
       "      <td>Tay-Nam</td>\n",
       "      <td>4.0</td>\n",
       "      <td>4.0</td>\n",
       "      <td>5.0</td>\n",
       "      <td>21.022578</td>\n",
       "      <td>105.831854</td>\n",
       "      <td>trong ngo</td>\n",
       "    </tr>\n",
       "    <tr>\n",
       "      <th>417</th>\n",
       "      <td>55.0</td>\n",
       "      <td>16000.0</td>\n",
       "      <td>44325</td>\n",
       "      <td>So do</td>\n",
       "      <td>dong-Nam</td>\n",
       "      <td>dong-Nam</td>\n",
       "      <td>6.0</td>\n",
       "      <td>6.0</td>\n",
       "      <td>7.0</td>\n",
       "      <td>21.012334</td>\n",
       "      <td>105.819316</td>\n",
       "      <td>trong ngo</td>\n",
       "    </tr>\n",
       "    <tr>\n",
       "      <th>419</th>\n",
       "      <td>49.0</td>\n",
       "      <td>9000.0</td>\n",
       "      <td>44325</td>\n",
       "      <td>So do</td>\n",
       "      <td>Tay-Nam</td>\n",
       "      <td>Tay-Nam</td>\n",
       "      <td>4.0</td>\n",
       "      <td>6.0</td>\n",
       "      <td>4.0</td>\n",
       "      <td>21.013450</td>\n",
       "      <td>105.815619</td>\n",
       "      <td>trong ngo</td>\n",
       "    </tr>\n",
       "    <tr>\n",
       "      <th>421</th>\n",
       "      <td>56.0</td>\n",
       "      <td>6200.0</td>\n",
       "      <td>44325</td>\n",
       "      <td>So do</td>\n",
       "      <td>Tay-Bac</td>\n",
       "      <td>dong-Nam</td>\n",
       "      <td>4.0</td>\n",
       "      <td>4.0</td>\n",
       "      <td>5.0</td>\n",
       "      <td>21.013369</td>\n",
       "      <td>105.827251</td>\n",
       "      <td>trong ngo</td>\n",
       "    </tr>\n",
       "    <tr>\n",
       "      <th>517</th>\n",
       "      <td>73.0</td>\n",
       "      <td>13700.0</td>\n",
       "      <td>44306</td>\n",
       "      <td>So do</td>\n",
       "      <td>dong</td>\n",
       "      <td>dong</td>\n",
       "      <td>5.0</td>\n",
       "      <td>6.0</td>\n",
       "      <td>5.0</td>\n",
       "      <td>21.027478</td>\n",
       "      <td>105.834293</td>\n",
       "      <td>mat pho</td>\n",
       "    </tr>\n",
       "    <tr>\n",
       "      <th>572</th>\n",
       "      <td>98.0</td>\n",
       "      <td>28000.0</td>\n",
       "      <td>44312</td>\n",
       "      <td>So do</td>\n",
       "      <td>dong-Nam</td>\n",
       "      <td>dong-Nam</td>\n",
       "      <td>7.0</td>\n",
       "      <td>9.0</td>\n",
       "      <td>6.0</td>\n",
       "      <td>21.016493</td>\n",
       "      <td>105.822814</td>\n",
       "      <td>mat pho</td>\n",
       "    </tr>\n",
       "    <tr>\n",
       "      <th>600</th>\n",
       "      <td>128.0</td>\n",
       "      <td>49000.0</td>\n",
       "      <td>44317</td>\n",
       "      <td>So do</td>\n",
       "      <td>Tay-Bac</td>\n",
       "      <td>dong-Nam</td>\n",
       "      <td>2.0</td>\n",
       "      <td>2.0</td>\n",
       "      <td>1.0</td>\n",
       "      <td>21.006694</td>\n",
       "      <td>105.835635</td>\n",
       "      <td>mat pho</td>\n",
       "    </tr>\n",
       "    <tr>\n",
       "      <th>645</th>\n",
       "      <td>58.0</td>\n",
       "      <td>18600.0</td>\n",
       "      <td>44325</td>\n",
       "      <td>So do</td>\n",
       "      <td>dong-Bac</td>\n",
       "      <td>dong-Bac</td>\n",
       "      <td>4.0</td>\n",
       "      <td>4.0</td>\n",
       "      <td>5.0</td>\n",
       "      <td>21.015811</td>\n",
       "      <td>105.824029</td>\n",
       "      <td>mat pho</td>\n",
       "    </tr>\n",
       "  </tbody>\n",
       "</table>\n",
       "</div>"
      ],
      "text/plain": [
       "      area    price  postDate land_certificate house_direction  \\\n",
       "1     57.0   4200.0     44265            So do             Nam   \n",
       "7     52.2   5376.6     44292            So do         Tay-Bac   \n",
       "220   61.0  12500.0     44306            So do        dong-Nam   \n",
       "223   37.0   3800.0     44306            So do            dong   \n",
       "230   35.0   4250.0     44306            So do             Bac   \n",
       "278   50.0  14600.0     44312            So do         Tay-Nam   \n",
       "382   51.0   3900.0     44323            So do         Tay-Nam   \n",
       "417   55.0  16000.0     44325            So do        dong-Nam   \n",
       "419   49.0   9000.0     44325            So do         Tay-Nam   \n",
       "421   56.0   6200.0     44325            So do         Tay-Bac   \n",
       "517   73.0  13700.0     44306            So do            dong   \n",
       "572   98.0  28000.0     44312            So do        dong-Nam   \n",
       "600  128.0  49000.0     44317            So do         Tay-Bac   \n",
       "645   58.0  18600.0     44325            So do        dong-Bac   \n",
       "\n",
       "    balcony_direction  toilet  bedroom  floor        lat        long  \\\n",
       "1                 Nam     3.0      8.0    4.0  21.025208  105.833111   \n",
       "7             Tay-Bac     1.0      2.0    3.0  21.019078  105.819259   \n",
       "220          dong-Nam     4.0      6.0    5.0  21.009410  105.824307   \n",
       "223              dong     3.0      3.0    4.0  21.012872  105.833187   \n",
       "230               Bac     4.0      3.0    5.0  21.024038  105.802626   \n",
       "278           Tay-Nam     4.0      6.0    4.0  21.016075  105.824436   \n",
       "382           Tay-Nam     4.0      4.0    5.0  21.022578  105.831854   \n",
       "417          dong-Nam     6.0      6.0    7.0  21.012334  105.819316   \n",
       "419           Tay-Nam     4.0      6.0    4.0  21.013450  105.815619   \n",
       "421          dong-Nam     4.0      4.0    5.0  21.013369  105.827251   \n",
       "517              dong     5.0      6.0    5.0  21.027478  105.834293   \n",
       "572          dong-Nam     7.0      9.0    6.0  21.016493  105.822814   \n",
       "600          dong-Nam     2.0      2.0    1.0  21.006694  105.835635   \n",
       "645          dong-Bac     4.0      4.0    5.0  21.015811  105.824029   \n",
       "\n",
       "    property_type  \n",
       "1       trong ngo  \n",
       "7       trong ngo  \n",
       "220     trong ngo  \n",
       "223     trong ngo  \n",
       "230     trong ngo  \n",
       "278     trong ngo  \n",
       "382     trong ngo  \n",
       "417     trong ngo  \n",
       "419     trong ngo  \n",
       "421     trong ngo  \n",
       "517       mat pho  \n",
       "572       mat pho  \n",
       "600       mat pho  \n",
       "645       mat pho  "
      ]
     },
     "execution_count": 5,
     "metadata": {},
     "output_type": "execute_result"
    }
   ],
   "source": [
    "df.dropna()"
   ]
  },
  {
   "cell_type": "markdown",
   "metadata": {},
   "source": [
    "# 1. Giữa giá nhà và diện tích có tương quan với nhau?\n",
    "#### Vì giá nhà và diện tích là 2 biến định lượng vì vậy dùng kiểm định person\n",
    "- Giả thuyết 1 : $H_0$  2 biến không có mỗi liên hệ ( r = 0 )\n",
    "- Giả thuyết 2 : $H_1$  2 biến có mối liên hệ ( r # 0 )  "
   ]
  },
  {
   "cell_type": "code",
   "execution_count": 6,
   "metadata": {},
   "outputs": [],
   "source": [
    "df1 = df[['area','price']]"
   ]
  },
  {
   "cell_type": "code",
   "execution_count": 7,
   "metadata": {},
   "outputs": [],
   "source": [
    "df1 = df1.dropna()"
   ]
  },
  {
   "cell_type": "code",
   "execution_count": 8,
   "metadata": {},
   "outputs": [
    {
     "name": "stdout",
     "output_type": "stream",
     "text": [
      "(0.22852101906798145, 9.947613326077062e-09)\n"
     ]
    }
   ],
   "source": [
    "print(stats.pearsonr(df1.area, df1.price))"
   ]
  },
  {
   "cell_type": "code",
   "execution_count": 9,
   "metadata": {},
   "outputs": [],
   "source": [
    "# vậy với pvalues < 0.05 thì giá nhà và diện tích có mức độ tương quan tuyến tính yếu"
   ]
  },
  {
   "cell_type": "markdown",
   "metadata": {},
   "source": [
    "# 2. Giữa giá nhà và tọa độ địa lý (lat, long) có tương quan với nhau\n",
    "#### Vì giá nhà và tọa độ là 2 biến định lượng vì vậy dùng kiểm định person\n",
    "- Giả thuyết 1 : $H_0$  2 biến không có mỗi liên hệ ( r = 0 )\n",
    "- Giả thuyết 2 : $H_1$  2 biến có mối liên hệ ( r # 0 )  "
   ]
  },
  {
   "cell_type": "code",
   "execution_count": 10,
   "metadata": {},
   "outputs": [
    {
     "data": {
      "text/html": [
       "<div>\n",
       "<style scoped>\n",
       "    .dataframe tbody tr th:only-of-type {\n",
       "        vertical-align: middle;\n",
       "    }\n",
       "\n",
       "    .dataframe tbody tr th {\n",
       "        vertical-align: top;\n",
       "    }\n",
       "\n",
       "    .dataframe thead th {\n",
       "        text-align: right;\n",
       "    }\n",
       "</style>\n",
       "<table border=\"1\" class=\"dataframe\">\n",
       "  <thead>\n",
       "    <tr style=\"text-align: right;\">\n",
       "      <th></th>\n",
       "      <th>price</th>\n",
       "      <th>long</th>\n",
       "      <th>lat</th>\n",
       "    </tr>\n",
       "  </thead>\n",
       "  <tbody>\n",
       "    <tr>\n",
       "      <th>0</th>\n",
       "      <td>14700.0</td>\n",
       "      <td>105.824583</td>\n",
       "      <td>21.015698</td>\n",
       "    </tr>\n",
       "    <tr>\n",
       "      <th>1</th>\n",
       "      <td>4200.0</td>\n",
       "      <td>105.833111</td>\n",
       "      <td>21.025208</td>\n",
       "    </tr>\n",
       "    <tr>\n",
       "      <th>2</th>\n",
       "      <td>11000.0</td>\n",
       "      <td>105.801011</td>\n",
       "      <td>21.025379</td>\n",
       "    </tr>\n",
       "    <tr>\n",
       "      <th>3</th>\n",
       "      <td>2900.0</td>\n",
       "      <td>105.834918</td>\n",
       "      <td>21.014325</td>\n",
       "    </tr>\n",
       "    <tr>\n",
       "      <th>4</th>\n",
       "      <td>3950.0</td>\n",
       "      <td>105.838083</td>\n",
       "      <td>21.009862</td>\n",
       "    </tr>\n",
       "    <tr>\n",
       "      <th>...</th>\n",
       "      <td>...</td>\n",
       "      <td>...</td>\n",
       "      <td>...</td>\n",
       "    </tr>\n",
       "    <tr>\n",
       "      <th>666</th>\n",
       "      <td>23500.0</td>\n",
       "      <td>105.829097</td>\n",
       "      <td>21.000823</td>\n",
       "    </tr>\n",
       "    <tr>\n",
       "      <th>667</th>\n",
       "      <td>17500.0</td>\n",
       "      <td>105.816666</td>\n",
       "      <td>21.011495</td>\n",
       "    </tr>\n",
       "    <tr>\n",
       "      <th>668</th>\n",
       "      <td>17500.0</td>\n",
       "      <td>105.816666</td>\n",
       "      <td>21.011495</td>\n",
       "    </tr>\n",
       "    <tr>\n",
       "      <th>669</th>\n",
       "      <td>24800.0</td>\n",
       "      <td>105.832157</td>\n",
       "      <td>21.016106</td>\n",
       "    </tr>\n",
       "    <tr>\n",
       "      <th>670</th>\n",
       "      <td>45000.0</td>\n",
       "      <td>105.824428</td>\n",
       "      <td>21.009123</td>\n",
       "    </tr>\n",
       "  </tbody>\n",
       "</table>\n",
       "<p>671 rows × 3 columns</p>\n",
       "</div>"
      ],
      "text/plain": [
       "       price        long        lat\n",
       "0    14700.0  105.824583  21.015698\n",
       "1     4200.0  105.833111  21.025208\n",
       "2    11000.0  105.801011  21.025379\n",
       "3     2900.0  105.834918  21.014325\n",
       "4     3950.0  105.838083  21.009862\n",
       "..       ...         ...        ...\n",
       "666  23500.0  105.829097  21.000823\n",
       "667  17500.0  105.816666  21.011495\n",
       "668  17500.0  105.816666  21.011495\n",
       "669  24800.0  105.832157  21.016106\n",
       "670  45000.0  105.824428  21.009123\n",
       "\n",
       "[671 rows x 3 columns]"
      ]
     },
     "execution_count": 10,
     "metadata": {},
     "output_type": "execute_result"
    }
   ],
   "source": [
    "df2 = df.filter(['price', 'long', 'lat'])\n",
    "df2"
   ]
  },
  {
   "cell_type": "code",
   "execution_count": 11,
   "metadata": {},
   "outputs": [
    {
     "data": {
      "text/plain": [
       "price    54\n",
       "long      0\n",
       "lat       0\n",
       "dtype: int64"
      ]
     },
     "execution_count": 11,
     "metadata": {},
     "output_type": "execute_result"
    }
   ],
   "source": [
    "df2.isnull().sum()"
   ]
  },
  {
   "cell_type": "code",
   "execution_count": 12,
   "metadata": {},
   "outputs": [],
   "source": [
    "df2 = df2.dropna()"
   ]
  },
  {
   "cell_type": "code",
   "execution_count": 13,
   "metadata": {},
   "outputs": [],
   "source": [
    "r,pvalues = pearsonr(x=df2['price'], y=df2['long'])"
   ]
  },
  {
   "cell_type": "code",
   "execution_count": 14,
   "metadata": {},
   "outputs": [
    {
     "name": "stdout",
     "output_type": "stream",
     "text": [
      "r = 0.071, pvalues = 0.077\n"
     ]
    }
   ],
   "source": [
    "print('r = %.3f, pvalues = %.3f'%(r,pvalues))"
   ]
  },
  {
   "cell_type": "code",
   "execution_count": 15,
   "metadata": {},
   "outputs": [],
   "source": [
    "# vì pvalues < 0.05 nên bác bỏ $H_0$ "
   ]
  },
  {
   "cell_type": "code",
   "execution_count": 16,
   "metadata": {},
   "outputs": [
    {
     "name": "stdout",
     "output_type": "stream",
     "text": [
      "r = -0.055, pvalues = 0.174\n"
     ]
    }
   ],
   "source": [
    "r,pvalues = pearsonr(x=df2['price'], y=df2['lat'])\n",
    "print('r = %.3f, pvalues = %.3f'%(r,pvalues))"
   ]
  },
  {
   "cell_type": "code",
   "execution_count": 17,
   "metadata": {},
   "outputs": [],
   "source": [
    "# vì pvalues < 0.05 nên bác bỏ $H_0$ "
   ]
  },
  {
   "cell_type": "markdown",
   "metadata": {},
   "source": [
    "# 3. Giữa thuộc tính land_certificate và property_type có tương quan với nhau\n",
    "#### 2 cột thuộc tính này là biến định tính nên ta dùng kiểm định chi-square\n",
    "- Giả thuyết 1 : $H_0$  2 biến không có mỗi liên hệ ( r = 0 )\n",
    "- Giả thuyết 2 : $H_1$  2 biến có mối liên hệ ( r # 0 )  "
   ]
  },
  {
   "cell_type": "code",
   "execution_count": 18,
   "metadata": {},
   "outputs": [],
   "source": [
    "contigency= pd.crosstab(index=df['property_type'], columns=df['land_certificate'].fillna('non_certificate'))"
   ]
  },
  {
   "cell_type": "code",
   "execution_count": 19,
   "metadata": {},
   "outputs": [
    {
     "data": {
      "text/plain": [
       "<AxesSubplot:xlabel='land_certificate', ylabel='property_type'>"
      ]
     },
     "execution_count": 19,
     "metadata": {},
     "output_type": "execute_result"
    },
    {
     "data": {
      "image/png": "[encoded data removed]",
      "text/plain": [
       "<Figure size 864x576 with 2 Axes>"
      ]
     },
     "metadata": {
      "needs_background": "light"
     },
     "output_type": "display_data"
    }
   ],
   "source": [
    "plt.figure(figsize=(12,8))\n",
    "sns.heatmap(contigency, cmap='Blues', vmin = 80)"
   ]
  },
  {
   "cell_type": "code",
   "execution_count": 20,
   "metadata": {},
   "outputs": [],
   "source": [
    "c, p, dof, expected = chi2_contingency(contigency)"
   ]
  },
  {
   "cell_type": "code",
   "execution_count": 21,
   "metadata": {},
   "outputs": [
    {
     "name": "stdout",
     "output_type": "stream",
     "text": [
      "P_values =  0.21106331497658834\n"
     ]
    }
   ],
   "source": [
    "print('P_values = ',p)"
   ]
  },
  {
   "cell_type": "code",
   "execution_count": 22,
   "metadata": {},
   "outputs": [],
   "source": [
    "# vì p < 0.05 đủ cơ sở để kết luận 2 thuộc tính liên quan với nhau."
   ]
  },
  {
   "cell_type": "markdown",
   "metadata": {},
   "source": [
    "4. Hãy  mã hóa lại thuộc tính giá nhà theo đơn vị (nghìn đồng/m2) và sắp xếp giá nhà thành 4 mức tương ứng với các khoảng tứ phân vị. Tiến hành kiểm định tương quan giữa biến giá nhà này với các biến tọa độ vị trí (lat, long)"
   ]
  },
  {
   "cell_type": "code",
   "execution_count": 23,
   "metadata": {},
   "outputs": [],
   "source": [
    "df['price/m2'] = df['price'] / df['area']"
   ]
  },
  {
   "cell_type": "code",
   "execution_count": 24,
   "metadata": {},
   "outputs": [],
   "source": [
    "q1 = df['price/m2'].quantile(q = 0.25)\n",
    "q2 = df['price/m2'].quantile(q = 0.50)\n",
    "q3 = df['price/m2'].quantile(q = 0.75)"
   ]
  },
  {
   "cell_type": "code",
   "execution_count": 25,
   "metadata": {},
   "outputs": [],
   "source": [
    "bins = [df['price/m2'] < q1,\\\n",
    "    (df['price/m2'] >= q1) & (df['price/m2'] < q2),\\\n",
    "        (df['price/m2'] >= q2) & (df['price/m2'] < q3), \\\n",
    "            df['price/m2'] >= q3]\n",
    "cats = [1,2,3,4]\n",
    "df['price/m2_oridinal'] = np.select(condlist = bins, choicelist = cats)"
   ]
  },
  {
   "cell_type": "code",
   "execution_count": 26,
   "metadata": {},
   "outputs": [],
   "source": [
    "##### 1 định tính và 1 định lượng vì vậy dùng kiểm đinh  spearman\n"
   ]
  },
  {
   "cell_type": "code",
   "execution_count": null,
   "metadata": {},
   "outputs": [],
   "source": []
  }
 ],
 "metadata": {
  "kernelspec": {
   "display_name": "Python 3.9.7 ('base')",
   "language": "python",
   "name": "python3"
  },
  "language_info": {
   "codemirror_mode": {
    "name": "ipython",
    "version": 3
   },
   "file_extension": ".py",
   "mimetype": "text/x-python",
   "name": "python",
   "nbconvert_exporter": "python",
   "pygments_lexer": "ipython3",
   "version": "3.9.7"
  },
  "orig_nbformat": 4,
  "vscode": {
   "interpreter": {
    "hash": "440c4360214cbd7cb3475a2b2e6c78f31c1d32bf5ea0dc5c31a0d7dd8338aeb9"
   }
  }
 },
 "nbformat": 4,
 "nbformat_minor": 2
}
