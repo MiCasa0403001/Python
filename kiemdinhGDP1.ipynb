{
 "cells": [
  {
   "cell_type": "code",
   "execution_count": 95,
   "metadata": {},
   "outputs": [],
   "source": [
    "import pandas as pd\n",
    "import numpy as np\n",
    "import matplotlib.pyplot as plt \n",
    "import seaborn as sns\n",
    "from scipy import stats\n",
    "from scipy.stats import ttest_1samp, ttest_ind, ttest_rel, wilcoxon"
   ]
  },
  {
   "cell_type": "code",
   "execution_count": 96,
   "metadata": {},
   "outputs": [
    {
     "data": {
      "text/html": [
       "<div>\n",
       "<style scoped>\n",
       "    .dataframe tbody tr th:only-of-type {\n",
       "        vertical-align: middle;\n",
       "    }\n",
       "\n",
       "    .dataframe tbody tr th {\n",
       "        vertical-align: top;\n",
       "    }\n",
       "\n",
       "    .dataframe thead th {\n",
       "        text-align: right;\n",
       "    }\n",
       "</style>\n",
       "<table border=\"1\" class=\"dataframe\">\n",
       "  <thead>\n",
       "    <tr style=\"text-align: right;\">\n",
       "      <th></th>\n",
       "      <th>Country</th>\n",
       "      <th>Continent</th>\n",
       "      <th>GDP (millions of US$)</th>\n",
       "    </tr>\n",
       "  </thead>\n",
       "  <tbody>\n",
       "    <tr>\n",
       "      <th>0</th>\n",
       "      <td>Afghanistan</td>\n",
       "      <td>Asia</td>\n",
       "      <td>18181</td>\n",
       "    </tr>\n",
       "  </tbody>\n",
       "</table>\n",
       "</div>"
      ],
      "text/plain": [
       "       Country Continent  GDP (millions of US$)\n",
       "0  Afghanistan      Asia                  18181"
      ]
     },
     "execution_count": 96,
     "metadata": {},
     "output_type": "execute_result"
    }
   ],
   "source": [
    "df = pd.read_csv('GDPlist.csv')\n",
    "df.head(1)"
   ]
  },
  {
   "cell_type": "markdown",
   "metadata": {},
   "source": [
    "<h1> - Trung bình GDP của các quốc gia trên thế giới là 500 tỉ usd/năm"
   ]
  },
  {
   "cell_type": "markdown",
   "metadata": {},
   "source": [
    "##### Giả thuyết cần kiểm định:\n",
    "- $H_0$ = $μ_{GDP}$ = 500\n",
    "- $H_1$ = $μ_{GDP}$ # 500"
   ]
  },
  {
   "cell_type": "code",
   "execution_count": 97,
   "metadata": {},
   "outputs": [
    {
     "name": "stdout",
     "output_type": "stream",
     "text": [
      "giá trị t: -30.129668387726298\n",
      "P_values: 6.7762481602092555e-59\n"
     ]
    }
   ],
   "source": [
    "tscore, pvalue = ttest_1samp(df['GDP (millions of US$)'], popmean=5000000)\n",
    "print('giá trị t:', tscore)\n",
    "print('P_values:', pvalue)\n"
   ]
  },
  {
   "cell_type": "markdown",
   "metadata": {},
   "source": [
    "##### Kết luận:\n",
    "- P_values lớn hơn 0.05 nên không thể bác bỏ $H_0$\n",
    "- Vậy trung bình GDP là 500 tỉ USD"
   ]
  },
  {
   "cell_type": "markdown",
   "metadata": {},
   "source": [
    "<h1> - GDP trung bình ở các quốc gia ở châu Âu cao hơn châu Á không??"
   ]
  },
  {
   "cell_type": "markdown",
   "metadata": {},
   "source": [
    "##### Giả thuyết cần kiểm định:\n",
    "- $H_0$ = $μ_{GDPChâu Âu}$ - $μ_{GDPChâu Á}$ <= 0\n",
    "- $H_1$ = $μ_{GDPChâu Âu}$ - $μ_{GDPChâu Á}$ > 0\n",
    "- Kiểm định Independent T test"
   ]
  },
  {
   "cell_type": "code",
   "execution_count": 101,
   "metadata": {},
   "outputs": [],
   "source": [
    "df1 = df[df['Continent'] == 'Asia'][['Continent','GDP (millions of US$)']]\n",
    "df2 = df[df['Continent'] == 'Europe'][['Continent','GDP (millions of US$)']]"
   ]
  },
  {
   "cell_type": "code",
   "execution_count": 116,
   "metadata": {},
   "outputs": [
    {
     "name": "stdout",
     "output_type": "stream",
     "text": [
      "Ttest_indResult(statistic=-0.5546583491057376, pvalue=0.5813877404597693)\n"
     ]
    }
   ],
   "source": [
    "print (stats.ttest_ind(df2['GDP (millions of US$)'], df1['GDP (millions of US$)'],equal_var=False))"
   ]
  },
  {
   "cell_type": "code",
   "execution_count": 110,
   "metadata": {},
   "outputs": [],
   "source": [
    "# pvalue > 5% rất nhiều\n",
    "# Kết luận: Không đủ căn cứ để bác bỏ $H_0$\n",
    "# kết luận rằng trung bình GDP ở châu âu > Châu á "
   ]
  },
  {
   "cell_type": "markdown",
   "metadata": {},
   "source": [
    "<h1> - GDP trung bình của các quốc gia ở châu Âu và châu Mỹ là bằng nhau"
   ]
  },
  {
   "cell_type": "markdown",
   "metadata": {},
   "source": [
    "##### Giả thuyết cần kiểm định:\n",
    "- $H_0$ = $μ_{GDPChâu Âu}$ = $μ_{GDPChâu Mỹ}$\n",
    "- $H_1$ = $μ_{GDPChâu Âu}$ != $μ_{GDPChâu Á}$ \n",
    "- Kiểm định Independent T test"
   ]
  },
  {
   "cell_type": "code",
   "execution_count": 119,
   "metadata": {},
   "outputs": [],
   "source": [
    "df3 = df[(df['Continent'] == 'North America') | (df['Continent'] == 'South America')][['Continent','GDP (millions of US$)']]\n",
    "df4 = df[df['Continent'] == 'Europe'][['Continent','GDP (millions of US$)']]"
   ]
  },
  {
   "cell_type": "code",
   "execution_count": 120,
   "metadata": {},
   "outputs": [
    {
     "name": "stdout",
     "output_type": "stream",
     "text": [
      "Ttest_indResult(statistic=0.7882914270473153, pvalue=0.4396139393183093)\n"
     ]
    }
   ],
   "source": [
    "print (stats.ttest_ind(df3['GDP (millions of US$)'], df4['GDP (millions of US$)'],equal_var=False))"
   ]
  },
  {
   "cell_type": "code",
   "execution_count": 121,
   "metadata": {},
   "outputs": [],
   "source": [
    "# pvalue < 5% \n",
    "# Kết luận: đủ căn cứ để bác bỏ $H_0$\n",
    "# kết luận rằng trung bình GDP ở châu Âu và châu Mỹ không bằng nhau"
   ]
  },
  {
   "cell_type": "code",
   "execution_count": null,
   "metadata": {},
   "outputs": [],
   "source": []
  }
 ],
 "metadata": {
  "kernelspec": {
   "display_name": "Python 3.9.7 ('base')",
   "language": "python",
   "name": "python3"
  },
  "language_info": {
   "codemirror_mode": {
    "name": "ipython",
    "version": 3
   },
   "file_extension": ".py",
   "mimetype": "text/x-python",
   "name": "python",
   "nbconvert_exporter": "python",
   "pygments_lexer": "ipython3",
   "version": "3.9.7"
  },
  "orig_nbformat": 4,
  "vscode": {
   "interpreter": {
    "hash": "440c4360214cbd7cb3475a2b2e6c78f31c1d32bf5ea0dc5c31a0d7dd8338aeb9"
   }
  }
 },
 "nbformat": 4,
 "nbformat_minor": 2
}
